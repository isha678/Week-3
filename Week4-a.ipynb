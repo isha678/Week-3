{
    "cells": [
        {
            "cell_type": "markdown",
            "metadata": {
                "collapsed": true
            },
            "source": "## Restaurant recommender system in Bangalore"
        },
        {
            "cell_type": "markdown",
            "metadata": {},
            "source": "### Problem background :"
        },
        {
            "cell_type": "markdown",
            "metadata": {},
            "source": "Bangalore is the capital and largest city of the Indian state of Karnataka. With a population of over 15 million (as of January 2016), Bangalore is the third largest city in India and 27th largest city in the world.\n\nThe diversity of the cuisine available is reflective of the social and economic diversity of Bangalore. Roadside vendors, tea stalls, South Indian, North Indian, Muslim food, Chinese and Western fast food are all very popular in the city. Udupi restaurants, are very popular and serve predominantly vegetarian cuisine. The Chinese food and the Thai food served in most of the restaurants are can be customised to cater to the tastes of the Indian population. Bangalore can also be called a foodie's paradise because of its vast variety of foods and edibles with a touch of Bangalore's uniqueness and tradition"
        },
        {
            "cell_type": "markdown",
            "metadata": {},
            "source": "### Problem description :"
        },
        {
            "cell_type": "markdown",
            "metadata": {},
            "source": "Suppose i travel and keep changing places very frequently. This is very hectic and plus i get to experience very different types of environment, of which i donot have much knowledge about. In such situation, food can be an important factor for decided how you rate your trips and plus also recommmending it to the people. Food can also attract people around to world to try it out if it were to be the best. In such scenarios, we need to find the right place, at reasonable cost, to serve us the best possible way. So there are few questions that must be addresed, such as :"
        },
        {
            "cell_type": "markdown",
            "metadata": {},
            "source": "1. How many types of foods are available in the restaurant ?  \n2. which is the most nearest to me with good rating ?  \n3. How many \"similar\" restaurants are available near by me ?  \n4. Do the \"similar\" restaurants cost more ? if so, what speciality do that have ?  "
        },
        {
            "cell_type": "markdown",
            "metadata": {},
            "source": "To address such question, XXYZ company's manager decides to allocate this project to me not just to find out solutions to the questions but also build a system that can help in recommending new places based on their rankings compared to the previously visited by me.\n\nExpectations from this recommender system is to get answer for the questions, and in such a way that it uncovers all the perspective of managing recommendations. It is sighted to show :"
        },
        {
            "cell_type": "markdown",
            "metadata": {},
            "source": "1. What types of restaurants are present in a paeticular area ?  \nwhere are the similar restaurant present based on a preference to particular food ?\nHow do different restaurants rank with respect to my preferences ?"
        }
    ],
    "metadata": {
        "kernelspec": {
            "display_name": "Python 3.6",
            "language": "python",
            "name": "python3"
        },
        "language_info": {
            "codemirror_mode": {
                "name": "ipython",
                "version": 3
            },
            "file_extension": ".py",
            "mimetype": "text/x-python",
            "name": "python",
            "nbconvert_exporter": "python",
            "pygments_lexer": "ipython3",
            "version": "3.6.9"
        }
    },
    "nbformat": 4,
    "nbformat_minor": 1
}